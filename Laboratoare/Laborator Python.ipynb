{
 "cells": [
  {
   "cell_type": "markdown",
   "id": "3dde636a",
   "metadata": {},
   "source": [
    "## Laborator Introductiv Recapitulare Python"
   ]
  },
  {
   "cell_type": "markdown",
   "id": "647b2094",
   "metadata": {},
   "source": [
    "Exercitii"
   ]
  },
  {
   "cell_type": "code",
   "execution_count": 1,
   "id": "2852da6f",
   "metadata": {},
   "outputs": [],
   "source": [
    "y_pred = [1, 1, 1, 0, 1, 0, 1, 1, 0, 0]\n",
    "y_true = [1, 0, 1, 0, 1, 0, 1, 0, 1, 0]"
   ]
  },
  {
   "cell_type": "code",
   "execution_count": 2,
   "id": "fe36a3f6",
   "metadata": {},
   "outputs": [],
   "source": [
    "def accuracy_score(y_true, y_pred):\n",
    "    if len(y_true) != len(y_pred):\n",
    "        raise ValueError(\"Lists must have the same length\")\n",
    "    values_sum = [a==b for (a,b) in zip(y_pred, y_true)].count(True)\n",
    "    return values_sum/len(y_pred)"
   ]
  },
  {
   "cell_type": "code",
   "execution_count": 3,
   "id": "79fec3af",
   "metadata": {},
   "outputs": [
    {
     "data": {
      "text/plain": [
       "0.7"
      ]
     },
     "execution_count": 3,
     "metadata": {},
     "output_type": "execute_result"
    }
   ],
   "source": [
    "accuracy_score(y_true, y_pred)"
   ]
  },
  {
   "cell_type": "code",
   "execution_count": 4,
   "id": "df6600de",
   "metadata": {},
   "outputs": [],
   "source": [
    "def precision_recall_score(y_true, y_pred):\n",
    "    if len(y_true) != len(y_pred):\n",
    "        raise ValueError(\"Lists must have the same length\")\n",
    "    tp = [ 1 if a == 1 and b == 1 else 0 for (a, b) in zip(y_pred, y_true)].count(1)\n",
    "    fp = [ 1 if a == 1 and b == 0 else 0 for (a, b) in zip(y_pred, y_true)].count(1)\n",
    "    fn = [ 1 if a == 0 and b == 1 else 0 for (a, b) in zip(y_pred, y_true)].count(1)\n",
    "    precision = tp / (tp + fp)\n",
    "    recall = tp / (tp + fn)\n",
    "    return precision, recall\n"
   ]
  },
  {
   "cell_type": "code",
   "execution_count": 5,
   "id": "e4db4e24",
   "metadata": {},
   "outputs": [
    {
     "data": {
      "text/plain": [
       "(0.6666666666666666, 0.8)"
      ]
     },
     "execution_count": 5,
     "metadata": {},
     "output_type": "execute_result"
    }
   ],
   "source": [
    "precision_recall_score(y_true, y_pred)"
   ]
  },
  {
   "cell_type": "code",
   "execution_count": 6,
   "id": "93b01150",
   "metadata": {},
   "outputs": [],
   "source": [
    "def mse(y_true, y_pred):\n",
    "    if len(y_true) != len(y_pred):\n",
    "        raise ValueError(\"Lists must have the same length\")\n",
    "    values = [(a-b)**2 for (a,b) in zip(y_pred, y_true)]\n",
    "    return sum(values)/len(values)"
   ]
  },
  {
   "cell_type": "code",
   "execution_count": 7,
   "id": "5ac68aff",
   "metadata": {},
   "outputs": [
    {
     "data": {
      "text/plain": [
       "0.3"
      ]
     },
     "execution_count": 7,
     "metadata": {},
     "output_type": "execute_result"
    }
   ],
   "source": [
    "mse(y_true, y_pred)"
   ]
  },
  {
   "cell_type": "code",
   "execution_count": 8,
   "id": "682b753d",
   "metadata": {},
   "outputs": [],
   "source": [
    "def mae(y_true, y_pred):\n",
    "    if len(y_true) != len(y_pred):\n",
    "        raise ValueError(\"Lists must have the same length\")\n",
    "    values = [abs(a-b) for (a,b) in zip(y_pred, y_true)]\n",
    "    return sum(values)/len(values)"
   ]
  },
  {
   "cell_type": "code",
   "execution_count": 9,
   "id": "63ed0232",
   "metadata": {},
   "outputs": [
    {
     "data": {
      "text/plain": [
       "0.3"
      ]
     },
     "execution_count": 9,
     "metadata": {},
     "output_type": "execute_result"
    }
   ],
   "source": [
    "mae(y_true, y_pred)"
   ]
  }
 ],
 "metadata": {
  "kernelspec": {
   "display_name": "Python 3 (ipykernel)",
   "language": "python",
   "name": "python3"
  },
  "language_info": {
   "codemirror_mode": {
    "name": "ipython",
    "version": 3
   },
   "file_extension": ".py",
   "mimetype": "text/x-python",
   "name": "python",
   "nbconvert_exporter": "python",
   "pygments_lexer": "ipython3",
   "version": "3.9.13"
  },
  "vscode": {
   "interpreter": {
    "hash": "a6e69aeb1bce23f2feb344c0c5ed6e33215a390bc17ef1ee912b92197d50282e"
   }
  }
 },
 "nbformat": 4,
 "nbformat_minor": 5
}
